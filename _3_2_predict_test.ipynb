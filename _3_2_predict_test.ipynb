{
 "cells": [
  {
   "cell_type": "markdown",
   "metadata": {},
   "source": [
    "## Import model có sẵn"
   ]
  },
  {
   "cell_type": "code",
   "execution_count": null,
   "metadata": {},
   "outputs": [],
   "source": [
    "import torch\n",
    "from transformers import RobertaForSequenceClassification, AutoTokenizer\n",
    "\n",
    "model = RobertaForSequenceClassification.from_pretrained(\"wonrax/phobert-base-vietnamese-sentiment\")\n",
    "\n",
    "tokenizer = AutoTokenizer.from_pretrained(\"wonrax/phobert-base-vietnamese-sentiment\", use_fast=False)\n"
   ]
  },
  {
   "cell_type": "markdown",
   "metadata": {},
   "source": [
    "## Import custom model"
   ]
  },
  {
   "cell_type": "code",
   "execution_count": 25,
   "metadata": {},
   "outputs": [],
   "source": [
    "import torch\n",
    "from transformers import RobertaForSequenceClassification, AutoTokenizer\n",
    "\n",
    "model = RobertaForSequenceClassification.from_pretrained(\"Custom_model11\")\n",
    "\n",
    "tokenizer = AutoTokenizer.from_pretrained(\"wonrax/phobert-base-vietnamese-sentiment\", use_fast=False)"
   ]
  },
  {
   "cell_type": "code",
   "execution_count": 3,
   "metadata": {},
   "outputs": [],
   "source": [
    "from _2_1_pre_processing import read_input, word_segment"
   ]
  },
  {
   "cell_type": "code",
   "execution_count": 27,
   "metadata": {},
   "outputs": [
    {
     "data": {
      "text/plain": [
       "([0.9883373379707336, 0.004758767783641815, 0.006904010660946369],\n",
       " 'giảng_viên nhiệt_tình nhưng chỉ đảm_bảo ba_mươi kiến_thức')"
      ]
     },
     "execution_count": 27,
     "metadata": {},
     "output_type": "execute_result"
    }
   ],
   "source": [
    "# Just like PhoBERT: INPUT TEXT MUST BE ALREADY WORD-SEGMENTED!\n",
    "def run(sentence):\n",
    "    \n",
    "    sentence = read_input(sentence)\n",
    "\n",
    "    input_ids = torch.tensor([tokenizer.encode(sentence)])\n",
    "\n",
    "    with torch.no_grad():\n",
    "        out = model(input_ids)\n",
    "        #print(out)\n",
    "        # print(out.logits.softmax(dim=-1).tolist())\n",
    "        return out.logits.softmax(dim=-1).tolist()[0], sentence\n",
    "        # Output:\n",
    "        # [[0.002, 0.988, 0.01]]\n",
    "        #     ^      ^      ^\n",
    "        #    NEG    NEU    POS\n",
    "\n",
    "#sentence = 'thầy dạy ko tốt'\n",
    "#sentence =  'cô cho em 10 điểm thực hành colonlove.' #'chấm cho thầy 1 điểm'\n",
    "sentence = 'gv nhiệt tình nhưng chỉ đảm bảo 30% kiến thức'\n",
    "\n",
    "run(sentence)"
   ]
  },
  {
   "cell_type": "code",
   "execution_count": null,
   "metadata": {},
   "outputs": [],
   "source": [
    "out.logits.softmax(dim=-1).tolist()[0]"
   ]
  },
  {
   "cell_type": "code",
   "execution_count": null,
   "metadata": {},
   "outputs": [],
   "source": []
  }
 ],
 "metadata": {
  "kernelspec": {
   "display_name": "Python 3",
   "language": "python",
   "name": "python3"
  },
  "language_info": {
   "codemirror_mode": {
    "name": "ipython",
    "version": 3
   },
   "file_extension": ".py",
   "mimetype": "text/x-python",
   "name": "python",
   "nbconvert_exporter": "python",
   "pygments_lexer": "ipython3",
   "version": "3.10.4"
  },
  "orig_nbformat": 4
 },
 "nbformat": 4,
 "nbformat_minor": 2
}
